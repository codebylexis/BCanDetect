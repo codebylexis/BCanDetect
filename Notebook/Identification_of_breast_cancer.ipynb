{
 "cells": [
  {
   "cell_type": "markdown",
   "metadata": {
    "id": "WBPAuczhsXTZ"
   },
   "source": [
    "## Libraries Import"
   ]
  },
  {
   "cell_type": "code",
   "execution_count": null,
   "metadata": {
    "id": "9ZWXfvCpBKyc"
   },
   "outputs": [],
   "source": [
    "import numpy as np\n",
    "import pandas as pd \n",
    "import matplotlib.pyplot as plt\n",
    "import seaborn as sns\n",
    "from tqdm.notebook import tqdm\n",
    "from glob import glob"
   ]
  },
  {
   "cell_type": "code",
   "execution_count": null,
   "metadata": {
    "id": "3pJMvHW3Rffk"
   },
   "outputs": [],
   "source": [
    "import tensorflow as tf\n",
    "from tensorflow.keras import Sequential\n",
    "from tensorflow.keras.layers import Dense, Flatten, Conv2D, BatchNormalization, MaxPool2D, Dropout, LeakyReLU\n",
    "from tensorflow.keras.preprocessing import image\n",
    "import tensorflow.image as tfi\n",
    "from tensorflow.keras.preprocessing.image import load_img, img_to_array\n",
    "from tensorflow.keras.utils import plot_model"
   ]
  },
  {
   "cell_type": "code",
   "execution_count": null,
   "metadata": {
    "id": "R7Nesp1fjWmx"
   },
   "outputs": [],
   "source": [
    "import warnings\n",
    "warnings.filterwarnings(\"ignore\")\n",
    "warnings.filterwarnings(\"ignore\", category=UserWarning)\n",
    "warnings.filterwarnings(\"ignore\", category=FutureWarning)\n",
    "plt.style.use('ggplot')"
   ]
  },
  {
   "cell_type": "markdown",
   "metadata": {
    "id": "T3PY2pOOscb8"
   },
   "source": [
    "## Dataset Loading"
   ]
  },
  {
   "cell_type": "code",
   "execution_count": null,
   "metadata": {
    "id": "1D6AZqg8NXjy"
   },
   "outputs": [],
   "source": [
    "images_data = glob('/content/Dataset/**/*.png', recursive = True)"
   ]
  },
  {
   "cell_type": "code",
   "execution_count": null,
   "metadata": {
    "id": "B1nSTILYNhch"
   },
   "outputs": [],
   "source": [
    "def get_dataset(images_data):\n",
    "  images = []\n",
    "  labels  = []\n",
    "  for img in images_data:\n",
    "    images.append(img)\n",
    "    labels.append(int(img[-5]))\n",
    "  return images, labels   "
   ]
  },
  {
   "cell_type": "code",
   "execution_count": null,
   "metadata": {
    "id": "nZ3LotpaNqwQ"
   },
   "outputs": [],
   "source": [
    "images, labels = get_dataset(images_data)"
   ]
  },
  {
   "cell_type": "code",
   "execution_count": null,
   "metadata": {
    "colab": {
     "base_uri": "https://localhost:8080/"
    },
    "id": "b8ILt0IjOUcS",
    "outputId": "b10ba7aa-02d3-4dd5-baec-0efa504dac34"
   },
   "outputs": [],
   "source": [
    "print(f'Size of dataset: {len(images)}')"
   ]
  },
  {
   "cell_type": "code",
   "execution_count": null,
   "metadata": {
    "id": "MkL_WSM4Cx19"
   },
   "outputs": [],
   "source": [
    "def load_image(path, size):\n",
    "  return np.round(tfi.resize(img_to_array(load_img(path))/255.,(size, size)),3)"
   ]
  },
  {
   "cell_type": "markdown",
   "metadata": {
    "id": "AyyV14FGshAz"
   },
   "source": [
    "## Data Visualization"
   ]
  },
  {
   "cell_type": "code",
   "execution_count": null,
   "metadata": {
    "id": "9i9B8Y8RCjnO"
   },
   "outputs": [],
   "source": [
    "def show_image(image, title='', cmap = None):\n",
    "  plt.imshow(image, cmap=cmap, alpha=1)\n",
    "  if title is not None:\n",
    "    plt.title(title)\n",
    "  plt.axis('off')"
   ]
  },
  {
   "cell_type": "code",
   "execution_count": null,
   "metadata": {
    "colab": {
     "base_uri": "https://localhost:8080/",
     "height": 728
    },
    "id": "B62aLeKZRQJg",
    "outputId": "81c3630a-623c-4b22-a679-846664c26308"
   },
   "outputs": [],
   "source": [
    "plt.figure(figsize=(12,6))\n",
    "plt.rcParams['figure.dpi'] = 150\n",
    "for i in range(20):\n",
    "  plt.subplot(4,5,i+1)\n",
    "  id = np.random.randint(len(images))\n",
    "  if labels[id]==1:\n",
    "    title='Postive'\n",
    "  elif labels[id] == 0:\n",
    "    title='Negative'  \n",
    "  show_image(load_image(images[id], 600), title= title)\n",
    "plt.suptitle(f\"Dataset\", fontsize=18)\n",
    "plt.tight_layout()\n",
    "plt.show()"
   ]
  },
  {
   "cell_type": "code",
   "execution_count": null,
   "metadata": {
    "colab": {
     "base_uri": "https://localhost:8080/",
     "height": 589
    },
    "id": "j5uZ85vaRtUy",
    "outputId": "5e813a60-ee8d-460e-b38a-fc4f591de3e3"
   },
   "outputs": [],
   "source": [
    "plt.figure(figsize=(6,7))\n",
    "plt.rcParams['figure.dpi'] = 50\n",
    "sns.countplot(labels)\n",
    "plt.show()"
   ]
  },
  {
   "cell_type": "markdown",
   "metadata": {
    "id": "lN8YnrSvswX-"
   },
   "source": [
    "## Forming Dataset"
   ]
  },
  {
   "cell_type": "code",
   "execution_count": null,
   "metadata": {
    "id": "rFjnD7HZOrsD"
   },
   "outputs": [],
   "source": [
    "def structured_dataset(images,labels):\n",
    "  negative = []\n",
    "  postive = []\n",
    "\n",
    "  for img, lab, in zip(images,labels):\n",
    "    if lab == 0:\n",
    "      negative.append((img, lab))\n",
    "    elif lab == 1:\n",
    "      postive.append((img, lab))\n",
    "\n",
    "\n",
    "  complete_1 = negative[:3000] + postive[:3000]\n",
    "  complete_2 = negative[3000:3050] + postive[3000:3050]\n",
    "  np.random.shuffle(complete_1)\n",
    "  np.random.shuffle(complete_2)\n",
    "  return negative, postive, complete_1, complete_2"
   ]
  },
  {
   "cell_type": "code",
   "execution_count": null,
   "metadata": {
    "id": "4Wv0zLUrO7pm"
   },
   "outputs": [],
   "source": [
    "negative, postive, complete_1, complete_2 = structured_dataset(images,labels)"
   ]
  },
  {
   "cell_type": "code",
   "execution_count": null,
   "metadata": {
    "id": "1V36Bjn4pNvx"
   },
   "outputs": [],
   "source": [
    "def generate_dataset(complete):\n",
    "  data = []\n",
    "  label = []\n",
    "  for x in tqdm(complete):\n",
    "    data.append(load_image(x[0], 100))\n",
    "    label.append(np.array(x[1]))\n",
    "  return np.array(data), np.array(label)  "
   ]
  },
  {
   "cell_type": "code",
   "execution_count": null,
   "metadata": {
    "colab": {
     "base_uri": "https://localhost:8080/",
     "height": 81,
     "referenced_widgets": [
      "8c453ad6c4f646e5aecd17774f1755b5",
      "0fd8aaac12154df98dabb59d335d0788",
      "b6c4202fb00a46629a0fd31700cc677b",
      "92a7d2c1dc7e4594bd067936e4ed7234",
      "aa2c4777f6ea4ee4bfc480ef906f53bd",
      "90435175a4e448c38c4278f167711f45",
      "6667131e0aee4d4ca531050c24a04a27",
      "f26e5f2080774056a6568ea9cbd17cc8",
      "52af39b32ed646389c496104a9ab5853",
      "b443f92736014159a740c005e6664ef4",
      "26976d796ea44f268ab8c5f89accead4",
      "08d1df4986804ebf8c8bdce28fe0df43",
      "1719a7177bdd4305aff87ab92253dda8",
      "7e4eafdd639b4054968fb05172b5d242",
      "06eb75a47cb34164bc289157296b35fb",
      "e44e3fef5eaa446eb3050dd86ebc6776",
      "15f5a4aa88a44a168fc9d3caacfed7a8",
      "378f6a649b9b480690d0844ade41f5d3",
      "2c459e50b2304992a6502d2fe825a78e",
      "63d8faa8c9f448f4a30da75b3daeda45",
      "549b1a1a87de46a6b4744327bd8705da",
      "7d7cb8a9df4b4da2855c6d7a950f5bcf"
     ]
    },
    "id": "UcpPhHXtxHZ1",
    "outputId": "bc4d75ab-d451-42e8-aaaa-d04b992ec686"
   },
   "outputs": [],
   "source": [
    "data, label = generate_dataset(complete_1)\n",
    "test_data, test_label = generate_dataset(complete_2)"
   ]
  },
  {
   "cell_type": "code",
   "execution_count": null,
   "metadata": {
    "colab": {
     "base_uri": "https://localhost:8080/",
     "height": 589
    },
    "id": "Z2ncDD8Wn5-_",
    "outputId": "3e7ad2cc-2c64-4a3d-efc0-6d900104c4af"
   },
   "outputs": [],
   "source": [
    "plt.figure(figsize=(6,7))\n",
    "plt.rcParams['figure.dpi'] = 100\n",
    "sns.countplot(label)\n",
    "plt.show()"
   ]
  },
  {
   "cell_type": "code",
   "execution_count": null,
   "metadata": {
    "colab": {
     "base_uri": "https://localhost:8080/"
    },
    "id": "FUm7wZqyxKBM",
    "outputId": "68187bda-5691-424c-81ce-e249c2e0f887"
   },
   "outputs": [],
   "source": [
    "print(f'Dataset Size: {len(data)}')"
   ]
  },
  {
   "cell_type": "markdown",
   "metadata": {
    "id": "mDRMJ4-Xs0wL"
   },
   "source": [
    "## Model Building"
   ]
  },
  {
   "cell_type": "code",
   "execution_count": null,
   "metadata": {
    "id": "2WcrFRc9veTR"
   },
   "outputs": [],
   "source": [
    "img_width, img_height = 100, 100"
   ]
  },
  {
   "cell_type": "code",
   "execution_count": null,
   "metadata": {
    "id": "9KrTx0bau8oe"
   },
   "outputs": [],
   "source": [
    "model = Sequential()\n",
    "\n",
    "#convolution \n",
    "model.add(Conv2D(32, (3,3), input_shape = (img_width, img_height, 3), activation='relu', padding='same'))\n",
    "model.add(MaxPool2D(2,2))\n",
    "\n",
    "model.add(Conv2D(64, (3,3), activation='relu', padding='same'))\n",
    "model.add(MaxPool2D(2,2))\n",
    "\n",
    "model.add(Conv2D(128, (3,3), activation='relu', padding='same'))\n",
    "model.add(MaxPool2D(2,2))\n",
    "\n",
    "model.add(Conv2D(192, (3,3), activation='relu', padding='same'))\n",
    "model.add(MaxPool2D(2,2))\n",
    "\n",
    "#Dense \n",
    "model.add(Flatten())\n",
    "\n",
    "model.add(Dense(50, activation='relu'))\n",
    "model.add(Dropout(0.4))\n",
    "\n",
    "\n",
    "model.add(Dense(50, activation='relu'))\n",
    "model.add(Dropout(0.3))\n",
    "\n",
    "\n",
    "\n",
    "model.add(Dense(1, activation='sigmoid'))"
   ]
  },
  {
   "cell_type": "code",
   "execution_count": null,
   "metadata": {
    "colab": {
     "base_uri": "https://localhost:8080/",
     "height": 1000
    },
    "id": "PvtYgeP8sGAv",
    "outputId": "4f4bcb23-2607-450a-9420-4670240b22da"
   },
   "outputs": [],
   "source": [
    "plot_model(model, show_shapes=True, show_layer_names=True, dpi=64)"
   ]
  },
  {
   "cell_type": "code",
   "execution_count": null,
   "metadata": {
    "colab": {
     "base_uri": "https://localhost:8080/"
    },
    "id": "9FqIpd5Pvkqz",
    "outputId": "e533f243-1aff-4b71-e2eb-d0badb1a9d20"
   },
   "outputs": [],
   "source": [
    "model.compile(loss='binary_crossentropy', optimizer='adam', metrics=['accuracy'])\n",
    "r = model.fit(data, label, validation_split=0.33, epochs=20, batch_size=20)"
   ]
  },
  {
   "cell_type": "markdown",
   "metadata": {
    "id": "O7JxDqtJs4mg"
   },
   "source": [
    "## Model Evaluation"
   ]
  },
  {
   "cell_type": "code",
   "execution_count": null,
   "metadata": {
    "id": "7ZAAxDV0zONw"
   },
   "outputs": [],
   "source": [
    "loss, accuracy, val_loss, val_accuracy = r.history.values()"
   ]
  },
  {
   "cell_type": "code",
   "execution_count": null,
   "metadata": {
    "colab": {
     "base_uri": "https://localhost:8080/",
     "height": 612
    },
    "id": "P82_d2DhV7zF",
    "outputId": "df40589d-39f3-412d-ff57-fc0ad37a384b"
   },
   "outputs": [],
   "source": [
    "plt.figure(figsize=(15,7))\n",
    "\n",
    "plt.title(\"Loss\")\n",
    "plt.plot(loss, \".:\", label=\"Training\", linewidth=1.5)\n",
    "plt.plot(val_loss, \".:\", label=\"Validtion\", linewidth=1.5)\n",
    "plt.legend()\n",
    "plt.show()"
   ]
  },
  {
   "cell_type": "code",
   "execution_count": null,
   "metadata": {
    "colab": {
     "base_uri": "https://localhost:8080/",
     "height": 612
    },
    "id": "b-ghtsY5WDpD",
    "outputId": "61c3260e-0781-41d6-cbfd-7a1ddbf17a8d"
   },
   "outputs": [],
   "source": [
    "plt.figure(figsize=(15,7))\n",
    "plt.title(\"Accuracy\")\n",
    "plt.plot(accuracy, \".:\", label=\"Training\", linewidth=1.5)\n",
    "plt.plot(val_accuracy, \".:\", label=\"Validtion\", linewidth=1.5)\n",
    "plt.legend()\n",
    "plt.show()"
   ]
  },
  {
   "cell_type": "code",
   "execution_count": null,
   "metadata": {
    "id": "27XAWytUpw6J"
   },
   "outputs": [],
   "source": [
    "import math"
   ]
  },
  {
   "cell_type": "code",
   "execution_count": null,
   "metadata": {
    "colab": {
     "base_uri": "https://localhost:8080/"
    },
    "id": "48mt3xhjppL2",
    "outputId": "52732f04-822a-41d6-9fe3-a16010aa1824"
   },
   "outputs": [],
   "source": [
    "results = model.evaluate(test_data, test_label)\n",
    "print('----------------------------------------------------------------------------------------')\n",
    "print(\"Test Loss: {}\".format(results[0]))\n",
    "print(\"Test Accuracy: {} %\".format(math.floor(results[1] * 100)))"
   ]
  },
  {
   "cell_type": "markdown",
   "metadata": {
    "id": "VW4Nt4evs-dL"
   },
   "source": [
    "## Model Testing"
   ]
  },
  {
   "cell_type": "code",
   "execution_count": null,
   "metadata": {
    "id": "n3xF7M-cpvDa"
   },
   "outputs": [],
   "source": [
    "classes = ['Negative', 'Postive']"
   ]
  },
  {
   "cell_type": "code",
   "execution_count": null,
   "metadata": {
    "colab": {
     "base_uri": "https://localhost:8080/",
     "height": 936
    },
    "id": "j4y9_drzTVov",
    "outputId": "7d99429f-1ac6-46a8-e6fc-12f43e4e7da4"
   },
   "outputs": [],
   "source": [
    "plt.figure(figsize=(12,6))\n",
    "plt.rcParams['figure.dpi'] = 120\n",
    "for i in range(12):\n",
    "  plt.subplot(4,3,i+1)\n",
    "  id = np.random.randint(len(d))\n",
    "  result=model.predict(np.expand_dims(d[id], 0))\n",
    "  show_image(d[id], title= f'Truth: {classes[l[id]]}, Pred: {classes[np.int(np.round(result[0][0]))]}')\n",
    "\n",
    "plt.suptitle(f\"Dataset\", fontsize=18)\n",
    "plt.tight_layout()\n",
    "plt.show()"
   ]
  },
  {
   "cell_type": "code",
   "execution_count": null,
   "metadata": {
    "colab": {
     "base_uri": "https://localhost:8080/"
    },
    "id": "DUxgHJ5Dm-CX",
    "outputId": "85d47456-2e17-4900-f131-ca8f6d736dc1"
   },
   "outputs": [],
   "source": [
    "pred = []\n",
    "for d in test_data:\n",
    "  result=model.predict(np.expand_dims(d, 0))\n",
    "  pred.append(np.int(np.round(result[0][0])))"
   ]
  },
  {
   "cell_type": "markdown",
   "metadata": {
    "id": "eyRBPQJqtCYu"
   },
   "source": [
    "## Confusion Matrix "
   ]
  },
  {
   "cell_type": "code",
   "execution_count": null,
   "metadata": {
    "id": "zX0075MQntS7"
   },
   "outputs": [],
   "source": [
    "from sklearn.metrics import classification_report,confusion_matrix\n",
    "cnf_matrix = confusion_matrix(test_label, np.array(pred))"
   ]
  },
  {
   "cell_type": "code",
   "execution_count": null,
   "metadata": {
    "colab": {
     "base_uri": "https://localhost:8080/",
     "height": 409
    },
    "id": "D8A_10A1qSXi",
    "outputId": "58b2fbd4-3390-4d32-f2ce-8bd2671272fa"
   },
   "outputs": [],
   "source": [
    "from mlxtend.plotting import plot_confusion_matrix\n",
    "fig, ax = plot_confusion_matrix(cnf_matrix)\n",
    "ax.set_xticklabels([''] + list(classes))\n",
    "ax.set_yticklabels([''] + list(classes))\n",
    "plt.title('Confusion Matrix')\n",
    "plt.show()"
   ]
  },
  {
   "cell_type": "markdown",
   "metadata": {
    "id": "rNhz7cHEtKck"
   },
   "source": [
    "## Receiver Operating Characteristics"
   ]
  },
  {
   "cell_type": "code",
   "execution_count": null,
   "metadata": {
    "colab": {
     "base_uri": "https://localhost:8080/",
     "height": 577
    },
    "id": "gBIqKjoZkw7I",
    "outputId": "5f72b791-02cb-443a-b386-7a3c3b3a627e"
   },
   "outputs": [],
   "source": [
    "from sklearn.metrics import roc_curve, auc\n",
    "fpr, tpr, _ = roc_curve(test_label, np.array(pred))\n",
    "auc = auc(fpr, tpr)\n",
    "plt.figure()\n",
    "lw = 2\n",
    "plt.figure(figsize=(12,6))\n",
    "plt.plot(fpr, tpr, color='darkorange', lw=lw, label='ROC curve (area = %0.2f)' % auc)\n",
    "plt.plot([0, 1], [0, 1], color='navy', lw=lw, linestyle='--')\n",
    "plt.xlim([0.0, 1.0])\n",
    "plt.ylim([0.0, 1.05])\n",
    "plt.xlabel('False Positive Rate')\n",
    "plt.ylabel('True Positive Rate')\n",
    "plt.title('Receiver Operating Characteristics (ROC)')\n",
    "plt.legend(loc=\"lower right\")\n",
    "plt.show()"
   ]
  },
  {
   "cell_type": "markdown",
   "metadata": {
    "id": "91W8Xi2MtNO7"
   },
   "source": [
    "## Precision vs. Recall curve"
   ]
  },
  {
   "cell_type": "code",
   "execution_count": null,
   "metadata": {
    "colab": {
     "base_uri": "https://localhost:8080/",
     "height": 560
    },
    "id": "Ym044ZqTpf4d",
    "outputId": "4b2ff705-8b07-4b72-f5a9-7c2966cdc344"
   },
   "outputs": [],
   "source": [
    "from sklearn.metrics import precision_recall_curve, f1_score, average_precision_score\n",
    "average_precision = average_precision_score(test_label, np.array(pred))\n",
    "precision, recall, thresholds = precision_recall_curve(np.array(pred), test_label)\n",
    "plt.figure(figsize=(12,6))\n",
    "plt.step(recall, precision, color='b', alpha=0.2, where='post')\n",
    "plt.xlabel(\"Recall\")\n",
    "plt.ylabel(\"Precision\")\n",
    "plt.xlim([0.0, 1.0])\n",
    "plt.ylim([0.0, 1.05])\n",
    "plt.fill_between(recall, precision, step='post', alpha=0.3, color='g', label='AP={0:0.2f}'.format(average_precision))\n",
    "plt.title(\"Precision vs. Recall curve\")\n",
    "#plt.title('Precision-Recall curve: AP={0:0.2f}'.format(average_precision))\n",
    "plt.legend(loc=\"upper right\")\n",
    "plt.show()"
   ]
  },
  {
   "cell_type": "markdown",
   "metadata": {
    "id": "b4bkYqbGtRaF"
   },
   "source": [
    "## Classification Report"
   ]
  },
  {
   "cell_type": "code",
   "execution_count": null,
   "metadata": {
    "id": "97xEaVXGhP9j"
   },
   "outputs": [],
   "source": [
    "from sklearn.metrics import classification_report\n",
    "clf_report = classification_report(test_label, np.array(pred), target_names= ['Negative', 'Postive'], output_dict=True)"
   ]
  },
  {
   "cell_type": "code",
   "execution_count": null,
   "metadata": {
    "id": "IYS0iOfz-LNH"
   },
   "outputs": [],
   "source": [
    "clf = pd.DataFrame(clf_report).iloc[:-1, :].T\n",
    "clf['precision']['accuracy'] = np.nan\n",
    "clf['recall']['accuracy'] = np.nan"
   ]
  },
  {
   "cell_type": "code",
   "execution_count": null,
   "metadata": {
    "colab": {
     "base_uri": "https://localhost:8080/",
     "height": 688
    },
    "id": "ay_y4iXii-8J",
    "outputId": "857c8401-955a-4634-b4d8-4472a3cf22d4"
   },
   "outputs": [],
   "source": [
    "fig, ax = plt.subplots(figsize=(10,8))\n",
    "g = sns.heatmap(clf, linewidths=.5, annot=True)\n",
    "g.set_facecolor('xkcd:lightblue')\n",
    "plt.yticks(rotation=-0) \n",
    "plt.title('Classification Report')\n",
    "plt.show()"
   ]
  }
 ],
 "metadata": {
  "accelerator": "GPU",
  "colab": {
   "provenance": []
  },
  "gpuClass": "standard",
  "kernelspec": {
   "display_name": "Python 3 (ipykernel)",
   "language": "python",
   "name": "python3"
  },
  "language_info": {
   "codemirror_mode": {
    "name": "ipython",
    "version": 3
   },
   "file_extension": ".py",
   "mimetype": "text/x-python",
   "name": "python",
   "nbconvert_exporter": "python",
   "pygments_lexer": "ipython3",
   "version": "3.12.2"
  }
 },
 "nbformat": 4,
 "nbformat_minor": 4
}
